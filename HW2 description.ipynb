{
 "cells": [
  {
   "cell_type": "markdown",
   "metadata": {
    "collapsed": false
   },
   "source": [
    "# Image Seam Speed Contest! (Due october 13th)"
   ]
  },
  {
   "cell_type": "markdown",
   "metadata": {},
   "source": [
    "Note: we now have a <a href=\"https://piazza.com/mit/fall2015/18337/home#\"> piazza page </a> for discussions about this assignment "
   ]
  },
  {
   "cell_type": "markdown",
   "metadata": {},
   "source": [
    "A pretty fun demo is the <a href=\"https://github.com/alanedelman/18.337_2015/blob/master/Lecture04_0921/ImageSeam0.4.ipynb\">image seam demo  </a> shown in class in lecture 4.\n",
    "\n",
    "UPDATE: This version is for julia 0.4.  Good news, it works in 0.4 now!\n",
    "<br>\n",
    "\n",
    "1) Warmup: Replace stata with any image of your own choosing, and get the demo to work.  \n",
    "\n",
    "\n",
    "\n",
    "\n",
    "I think this is no longer of interest\n",
    "but I include for reference:  <a href=\"https://github.com/timholy/Images.jl/issues/363#issuecomment-144387472\">\n",
    " issue about images </a>\n",
    "\n",
    "<br>\n",
    "\n",
    "2) Speed contest:  For a Tosci's ice cream certificate, we will have two contests.  The goal is to time\n",
    "the compression part (the part that says \"Stata takes a while to compute,\") and get it to go as fast\n",
    "as possible with Julia on a machine of your choice, and on my mac.  \n",
    "\n",
    "<br>\n",
    "Submit your time and your code, and we might do a bake off in class.\n",
    "<br>\n",
    "\n",
    "You can use parallelism, a way better algorithm (probably most profitable!), or anything you like.\n",
    "If you think a GPU can help you should use a Julia GPU package.\n",
    "\n",
    "\n",
    "<br> Here is my Hardware overview:\n",
    "\n",
    "<tt>\n",
    "Hardware Overview: <br><br>\n",
    "\n",
    "  Model Name:\tMacBook Pro<br>\n",
    "  Model Identifier:\tMacBookPro11,4<br>\n",
    "  Processor Name:\tIntel Core i7<br>\n",
    "  Processor Speed:\t2.5 GHz<br>\n",
    "  Number of Processors:\t1<br>\n",
    "  Total Number of Cores:\t4<br>\n",
    "  L2 Cache (per Core):\t256 KB<br>\n",
    "  L3 Cache:\t6 MB<br>\n",
    "  Memory:\t16 GB<br>\n",
    "  Boot ROM Version:\tMBP114.0172.B04<br>\n",
    "  SMC Version (system):\t2.29f24<br>\n",
    "  Serial Number (system):\tC02Q60J9G8WL<br>\n",
    "  Hardware UUID:\tBD780384-C4F9-58CA-AB02-2DA9F1CF75E9}<br>\n",
    "  <br>\n",
    "  Graphics:<br>\n",
    "  Intel Iris Pro:<br>\n",
    "\n",
    "  Chipset Model:\tIntel Iris Pro<br>\n",
    "  Type:\tGPU<br>\n",
    "  Bus:\tBuilt-In<br>\n",
    "  VRAM (Dynamic, Max):\t1536 MB<br>\n",
    "  Vendor:\tIntel (0x8086)<br>\n",
    "  Device ID:\t0x0d26<br>\n",
    "  Revision ID:\t0x0008<br>\n",
    "  </tt>"
   ]
  },
  {
   "cell_type": "code",
   "execution_count": null,
   "metadata": {
    "collapsed": true
   },
   "outputs": [],
   "source": []
  }
 ],
 "metadata": {
  "kernelspec": {
   "display_name": "Julia 0.3.11",
   "language": "julia",
   "name": "julia-0.3"
  },
  "language_info": {
   "file_extension": ".jl",
   "mimetype": "application/julia",
   "name": "julia",
   "version": "0.3.11"
  }
 },
 "nbformat": 4,
 "nbformat_minor": 0
}
